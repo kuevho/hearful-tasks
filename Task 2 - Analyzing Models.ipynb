{
 "cells": [
  {
   "cell_type": "markdown",
   "metadata": {},
   "source": [
    "### List of tasks\n",
    "- read file\n",
    "- analyze number of reviews for each theme\n",
    "- how many reviews were positive and negative"
   ]
  },
  {
   "cell_type": "code",
   "execution_count": 1,
   "metadata": {},
   "outputs": [],
   "source": [
    "#import packages\n",
    "import pandas as pd\n",
    "import numpy as np"
   ]
  },
  {
   "cell_type": "code",
   "execution_count": 2,
   "metadata": {},
   "outputs": [],
   "source": [
    "#import visualization models\n",
    "import matplotlib.pyplot as plt\n",
    "import seaborn as sns\n",
    "sns.set_style('whitegrid')\n",
    "sns.set_context(\"talk\")\n",
    "%matplotlib inline"
   ]
  },
  {
   "cell_type": "code",
   "execution_count": 3,
   "metadata": {},
   "outputs": [],
   "source": [
    "# import stats modules\n",
    "from scipy import stats\n",
    "from scipy.stats import ttest_ind, chi2_contingency\n",
    "from scipy.sparse import hstack"
   ]
  },
  {
   "cell_type": "code",
   "execution_count": 4,
   "metadata": {},
   "outputs": [],
   "source": [
    "#read file into notebook\n",
    "df = pd.read_csv('APPAREL_ids_1_2019.csv', index_col=0)"
   ]
  },
  {
   "cell_type": "code",
   "execution_count": 5,
   "metadata": {
    "scrolled": true
   },
   "outputs": [
    {
     "name": "stdout",
     "output_type": "stream",
     "text": [
      "<class 'pandas.core.frame.DataFrame'>\n",
      "Index: 300 entries, academy58403947 to zappos5389083\n",
      "Data columns (total 14 columns):\n",
      "domain_global_string       300 non-null object\n",
      "review_rating              300 non-null int64\n",
      "review_text                300 non-null object\n",
      "review_title               278 non-null object\n",
      "use_sentiment_label        146 non-null object\n",
      "use_theme_exists           156 non-null float64\n",
      "fit_sentiment_label        220 non-null object\n",
      "fit_theme_exists           226 non-null float64\n",
      "value_sentiment_label      93 non-null object\n",
      "value_theme_exists         99 non-null float64\n",
      "style_sentiment_label      180 non-null object\n",
      "style_theme_exists         183 non-null float64\n",
      "quality_sentiment_label    201 non-null object\n",
      "quality_theme_exists       215 non-null float64\n",
      "dtypes: float64(5), int64(1), object(8)\n",
      "memory usage: 35.2+ KB\n"
     ]
    }
   ],
   "source": [
    "#check file info\n",
    "df.info()"
   ]
  },
  {
   "cell_type": "code",
   "execution_count": 6,
   "metadata": {},
   "outputs": [
    {
     "data": {
      "text/html": [
       "<div>\n",
       "<style scoped>\n",
       "    .dataframe tbody tr th:only-of-type {\n",
       "        vertical-align: middle;\n",
       "    }\n",
       "\n",
       "    .dataframe tbody tr th {\n",
       "        vertical-align: top;\n",
       "    }\n",
       "\n",
       "    .dataframe thead th {\n",
       "        text-align: right;\n",
       "    }\n",
       "</style>\n",
       "<table border=\"1\" class=\"dataframe\">\n",
       "  <thead>\n",
       "    <tr style=\"text-align: right;\">\n",
       "      <th></th>\n",
       "      <th>domain_global_string</th>\n",
       "      <th>review_rating</th>\n",
       "      <th>review_text</th>\n",
       "      <th>review_title</th>\n",
       "      <th>use_sentiment_label</th>\n",
       "      <th>use_theme_exists</th>\n",
       "      <th>fit_sentiment_label</th>\n",
       "      <th>fit_theme_exists</th>\n",
       "      <th>value_sentiment_label</th>\n",
       "      <th>value_theme_exists</th>\n",
       "      <th>style_sentiment_label</th>\n",
       "      <th>style_theme_exists</th>\n",
       "      <th>quality_sentiment_label</th>\n",
       "      <th>quality_theme_exists</th>\n",
       "    </tr>\n",
       "    <tr>\n",
       "      <th>_id</th>\n",
       "      <th></th>\n",
       "      <th></th>\n",
       "      <th></th>\n",
       "      <th></th>\n",
       "      <th></th>\n",
       "      <th></th>\n",
       "      <th></th>\n",
       "      <th></th>\n",
       "      <th></th>\n",
       "      <th></th>\n",
       "      <th></th>\n",
       "      <th></th>\n",
       "      <th></th>\n",
       "      <th></th>\n",
       "    </tr>\n",
       "  </thead>\n",
       "  <tbody>\n",
       "    <tr>\n",
       "      <th>academy58403947</th>\n",
       "      <td>APPAREL</td>\n",
       "      <td>5</td>\n",
       "      <td>The shorts were excellent in color and style. ...</td>\n",
       "      <td>NaN</td>\n",
       "      <td>NaN</td>\n",
       "      <td>NaN</td>\n",
       "      <td>NaN</td>\n",
       "      <td>NaN</td>\n",
       "      <td>pos</td>\n",
       "      <td>1.0</td>\n",
       "      <td>pos</td>\n",
       "      <td>1.0</td>\n",
       "      <td>NaN</td>\n",
       "      <td>NaN</td>\n",
       "    </tr>\n",
       "    <tr>\n",
       "      <th>adidas100338674</th>\n",
       "      <td>APPAREL</td>\n",
       "      <td>4</td>\n",
       "      <td>Fab running shorts. Only thing I'd change is t...</td>\n",
       "      <td>Retro vibe running!</td>\n",
       "      <td>pos</td>\n",
       "      <td>1.0</td>\n",
       "      <td>NaN</td>\n",
       "      <td>NaN</td>\n",
       "      <td>NaN</td>\n",
       "      <td>NaN</td>\n",
       "      <td>NaN</td>\n",
       "      <td>NaN</td>\n",
       "      <td>pos</td>\n",
       "      <td>1.0</td>\n",
       "    </tr>\n",
       "    <tr>\n",
       "      <th>adidas102938471</th>\n",
       "      <td>APPAREL</td>\n",
       "      <td>5</td>\n",
       "      <td>Just looks amazing and classy. Plus, it is sup...</td>\n",
       "      <td>Easy and stress free online experience. This f...</td>\n",
       "      <td>pos</td>\n",
       "      <td>1.0</td>\n",
       "      <td>pos</td>\n",
       "      <td>1.0</td>\n",
       "      <td>pos</td>\n",
       "      <td>1.0</td>\n",
       "      <td>pos</td>\n",
       "      <td>1.0</td>\n",
       "      <td>NaN</td>\n",
       "      <td>NaN</td>\n",
       "    </tr>\n",
       "    <tr>\n",
       "      <th>amazonR17DE72WNC7FQM</th>\n",
       "      <td>APPAREL</td>\n",
       "      <td>1</td>\n",
       "      <td>I should have taken a little more time when lo...</td>\n",
       "      <td>Disappointing</td>\n",
       "      <td>NaN</td>\n",
       "      <td>NaN</td>\n",
       "      <td>NaN</td>\n",
       "      <td>NaN</td>\n",
       "      <td>NaN</td>\n",
       "      <td>NaN</td>\n",
       "      <td>NaN</td>\n",
       "      <td>NaN</td>\n",
       "      <td>pos</td>\n",
       "      <td>1.0</td>\n",
       "    </tr>\n",
       "    <tr>\n",
       "      <th>amazonR19HL1JO6GEKJK</th>\n",
       "      <td>APPAREL</td>\n",
       "      <td>4</td>\n",
       "      <td>WAS SOME WHAT LARGE FOR 8 AND 9 YEAR OLD AND W...</td>\n",
       "      <td>ASICS WOMWNS CIRCUIT 7 SINGLET X SMAL</td>\n",
       "      <td>NaN</td>\n",
       "      <td>NaN</td>\n",
       "      <td>neg</td>\n",
       "      <td>1.0</td>\n",
       "      <td>pos</td>\n",
       "      <td>1.0</td>\n",
       "      <td>NaN</td>\n",
       "      <td>NaN</td>\n",
       "      <td>NaN</td>\n",
       "      <td>NaN</td>\n",
       "    </tr>\n",
       "  </tbody>\n",
       "</table>\n",
       "</div>"
      ],
      "text/plain": [
       "                     domain_global_string  review_rating  \\\n",
       "_id                                                        \n",
       "academy58403947                   APPAREL              5   \n",
       "adidas100338674                   APPAREL              4   \n",
       "adidas102938471                   APPAREL              5   \n",
       "amazonR17DE72WNC7FQM              APPAREL              1   \n",
       "amazonR19HL1JO6GEKJK              APPAREL              4   \n",
       "\n",
       "                                                            review_text  \\\n",
       "_id                                                                       \n",
       "academy58403947       The shorts were excellent in color and style. ...   \n",
       "adidas100338674       Fab running shorts. Only thing I'd change is t...   \n",
       "adidas102938471       Just looks amazing and classy. Plus, it is sup...   \n",
       "amazonR17DE72WNC7FQM  I should have taken a little more time when lo...   \n",
       "amazonR19HL1JO6GEKJK  WAS SOME WHAT LARGE FOR 8 AND 9 YEAR OLD AND W...   \n",
       "\n",
       "                                                           review_title  \\\n",
       "_id                                                                       \n",
       "academy58403947                                                     NaN   \n",
       "adidas100338674                                     Retro vibe running!   \n",
       "adidas102938471       Easy and stress free online experience. This f...   \n",
       "amazonR17DE72WNC7FQM                                      Disappointing   \n",
       "amazonR19HL1JO6GEKJK              ASICS WOMWNS CIRCUIT 7 SINGLET X SMAL   \n",
       "\n",
       "                     use_sentiment_label  use_theme_exists  \\\n",
       "_id                                                          \n",
       "academy58403947                      NaN               NaN   \n",
       "adidas100338674                      pos               1.0   \n",
       "adidas102938471                      pos               1.0   \n",
       "amazonR17DE72WNC7FQM                 NaN               NaN   \n",
       "amazonR19HL1JO6GEKJK                 NaN               NaN   \n",
       "\n",
       "                     fit_sentiment_label  fit_theme_exists  \\\n",
       "_id                                                          \n",
       "academy58403947                      NaN               NaN   \n",
       "adidas100338674                      NaN               NaN   \n",
       "adidas102938471                      pos               1.0   \n",
       "amazonR17DE72WNC7FQM                 NaN               NaN   \n",
       "amazonR19HL1JO6GEKJK                 neg               1.0   \n",
       "\n",
       "                     value_sentiment_label  value_theme_exists  \\\n",
       "_id                                                              \n",
       "academy58403947                        pos                 1.0   \n",
       "adidas100338674                        NaN                 NaN   \n",
       "adidas102938471                        pos                 1.0   \n",
       "amazonR17DE72WNC7FQM                   NaN                 NaN   \n",
       "amazonR19HL1JO6GEKJK                   pos                 1.0   \n",
       "\n",
       "                     style_sentiment_label  style_theme_exists  \\\n",
       "_id                                                              \n",
       "academy58403947                        pos                 1.0   \n",
       "adidas100338674                        NaN                 NaN   \n",
       "adidas102938471                        pos                 1.0   \n",
       "amazonR17DE72WNC7FQM                   NaN                 NaN   \n",
       "amazonR19HL1JO6GEKJK                   NaN                 NaN   \n",
       "\n",
       "                     quality_sentiment_label  quality_theme_exists  \n",
       "_id                                                                 \n",
       "academy58403947                          NaN                   NaN  \n",
       "adidas100338674                          pos                   1.0  \n",
       "adidas102938471                          NaN                   NaN  \n",
       "amazonR17DE72WNC7FQM                     pos                   1.0  \n",
       "amazonR19HL1JO6GEKJK                     NaN                   NaN  "
      ]
     },
     "execution_count": 6,
     "metadata": {},
     "output_type": "execute_result"
    }
   ],
   "source": [
    "df.head()"
   ]
  },
  {
   "cell_type": "code",
   "execution_count": 7,
   "metadata": {},
   "outputs": [
    {
     "data": {
      "text/html": [
       "<div>\n",
       "<style scoped>\n",
       "    .dataframe tbody tr th:only-of-type {\n",
       "        vertical-align: middle;\n",
       "    }\n",
       "\n",
       "    .dataframe tbody tr th {\n",
       "        vertical-align: top;\n",
       "    }\n",
       "\n",
       "    .dataframe thead th {\n",
       "        text-align: right;\n",
       "    }\n",
       "</style>\n",
       "<table border=\"1\" class=\"dataframe\">\n",
       "  <thead>\n",
       "    <tr style=\"text-align: right;\">\n",
       "      <th></th>\n",
       "      <th>review_rating</th>\n",
       "      <th>use_theme_exists</th>\n",
       "      <th>fit_theme_exists</th>\n",
       "      <th>value_theme_exists</th>\n",
       "      <th>style_theme_exists</th>\n",
       "      <th>quality_theme_exists</th>\n",
       "    </tr>\n",
       "  </thead>\n",
       "  <tbody>\n",
       "    <tr>\n",
       "      <th>count</th>\n",
       "      <td>300.000000</td>\n",
       "      <td>156.0</td>\n",
       "      <td>226.0</td>\n",
       "      <td>99.0</td>\n",
       "      <td>183.0</td>\n",
       "      <td>215.0</td>\n",
       "    </tr>\n",
       "    <tr>\n",
       "      <th>mean</th>\n",
       "      <td>4.320000</td>\n",
       "      <td>1.0</td>\n",
       "      <td>1.0</td>\n",
       "      <td>1.0</td>\n",
       "      <td>1.0</td>\n",
       "      <td>1.0</td>\n",
       "    </tr>\n",
       "    <tr>\n",
       "      <th>std</th>\n",
       "      <td>1.212091</td>\n",
       "      <td>0.0</td>\n",
       "      <td>0.0</td>\n",
       "      <td>0.0</td>\n",
       "      <td>0.0</td>\n",
       "      <td>0.0</td>\n",
       "    </tr>\n",
       "    <tr>\n",
       "      <th>min</th>\n",
       "      <td>1.000000</td>\n",
       "      <td>1.0</td>\n",
       "      <td>1.0</td>\n",
       "      <td>1.0</td>\n",
       "      <td>1.0</td>\n",
       "      <td>1.0</td>\n",
       "    </tr>\n",
       "    <tr>\n",
       "      <th>25%</th>\n",
       "      <td>4.000000</td>\n",
       "      <td>1.0</td>\n",
       "      <td>1.0</td>\n",
       "      <td>1.0</td>\n",
       "      <td>1.0</td>\n",
       "      <td>1.0</td>\n",
       "    </tr>\n",
       "    <tr>\n",
       "      <th>50%</th>\n",
       "      <td>5.000000</td>\n",
       "      <td>1.0</td>\n",
       "      <td>1.0</td>\n",
       "      <td>1.0</td>\n",
       "      <td>1.0</td>\n",
       "      <td>1.0</td>\n",
       "    </tr>\n",
       "    <tr>\n",
       "      <th>75%</th>\n",
       "      <td>5.000000</td>\n",
       "      <td>1.0</td>\n",
       "      <td>1.0</td>\n",
       "      <td>1.0</td>\n",
       "      <td>1.0</td>\n",
       "      <td>1.0</td>\n",
       "    </tr>\n",
       "    <tr>\n",
       "      <th>max</th>\n",
       "      <td>5.000000</td>\n",
       "      <td>1.0</td>\n",
       "      <td>1.0</td>\n",
       "      <td>1.0</td>\n",
       "      <td>1.0</td>\n",
       "      <td>1.0</td>\n",
       "    </tr>\n",
       "  </tbody>\n",
       "</table>\n",
       "</div>"
      ],
      "text/plain": [
       "       review_rating  use_theme_exists  fit_theme_exists  value_theme_exists  \\\n",
       "count     300.000000             156.0             226.0                99.0   \n",
       "mean        4.320000               1.0               1.0                 1.0   \n",
       "std         1.212091               0.0               0.0                 0.0   \n",
       "min         1.000000               1.0               1.0                 1.0   \n",
       "25%         4.000000               1.0               1.0                 1.0   \n",
       "50%         5.000000               1.0               1.0                 1.0   \n",
       "75%         5.000000               1.0               1.0                 1.0   \n",
       "max         5.000000               1.0               1.0                 1.0   \n",
       "\n",
       "       style_theme_exists  quality_theme_exists  \n",
       "count               183.0                 215.0  \n",
       "mean                  1.0                   1.0  \n",
       "std                   0.0                   0.0  \n",
       "min                   1.0                   1.0  \n",
       "25%                   1.0                   1.0  \n",
       "50%                   1.0                   1.0  \n",
       "75%                   1.0                   1.0  \n",
       "max                   1.0                   1.0  "
      ]
     },
     "execution_count": 7,
     "metadata": {},
     "output_type": "execute_result"
    }
   ],
   "source": [
    "# looks like review text, sentiment label and theme existence have some null values.\n",
    "# interesting...some themes are missing sentiment.\n",
    "# the missing sentiments will be left as is - could be neutral or missed by machine model\n",
    "df.describe()"
   ]
  },
  {
   "cell_type": "code",
   "execution_count": 8,
   "metadata": {
    "scrolled": true
   },
   "outputs": [
    {
     "data": {
      "text/plain": [
       "Index(['domain_global_string', 'review_rating', 'review_text', 'review_title',\n",
       "       'use_sentiment_label', 'use_theme_exists', 'fit_sentiment_label',\n",
       "       'fit_theme_exists', 'value_sentiment_label', 'value_theme_exists',\n",
       "       'style_sentiment_label', 'style_theme_exists',\n",
       "       'quality_sentiment_label', 'quality_theme_exists'],\n",
       "      dtype='object')"
      ]
     },
     "execution_count": 8,
     "metadata": {},
     "output_type": "execute_result"
    }
   ],
   "source": [
    "df.columns"
   ]
  },
  {
   "cell_type": "code",
   "execution_count": 9,
   "metadata": {},
   "outputs": [
    {
     "data": {
      "text/html": [
       "<div>\n",
       "<style scoped>\n",
       "    .dataframe tbody tr th:only-of-type {\n",
       "        vertical-align: middle;\n",
       "    }\n",
       "\n",
       "    .dataframe tbody tr th {\n",
       "        vertical-align: top;\n",
       "    }\n",
       "\n",
       "    .dataframe thead th {\n",
       "        text-align: right;\n",
       "    }\n",
       "</style>\n",
       "<table border=\"1\" class=\"dataframe\">\n",
       "  <thead>\n",
       "    <tr style=\"text-align: right;\">\n",
       "      <th></th>\n",
       "      <th>n_neg</th>\n",
       "      <th>n_pos</th>\n",
       "      <th>n_theme</th>\n",
       "      <th>theme</th>\n",
       "    </tr>\n",
       "  </thead>\n",
       "  <tbody>\n",
       "    <tr>\n",
       "      <th>0</th>\n",
       "      <td>13</td>\n",
       "      <td>133</td>\n",
       "      <td>156</td>\n",
       "      <td>use</td>\n",
       "    </tr>\n",
       "    <tr>\n",
       "      <th>1</th>\n",
       "      <td>15</td>\n",
       "      <td>205</td>\n",
       "      <td>226</td>\n",
       "      <td>fit</td>\n",
       "    </tr>\n",
       "    <tr>\n",
       "      <th>2</th>\n",
       "      <td>14</td>\n",
       "      <td>79</td>\n",
       "      <td>99</td>\n",
       "      <td>value</td>\n",
       "    </tr>\n",
       "    <tr>\n",
       "      <th>3</th>\n",
       "      <td>15</td>\n",
       "      <td>165</td>\n",
       "      <td>183</td>\n",
       "      <td>style</td>\n",
       "    </tr>\n",
       "    <tr>\n",
       "      <th>4</th>\n",
       "      <td>33</td>\n",
       "      <td>168</td>\n",
       "      <td>215</td>\n",
       "      <td>quality</td>\n",
       "    </tr>\n",
       "  </tbody>\n",
       "</table>\n",
       "</div>"
      ],
      "text/plain": [
       "   n_neg  n_pos  n_theme    theme\n",
       "0     13    133      156      use\n",
       "1     15    205      226      fit\n",
       "2     14     79       99    value\n",
       "3     15    165      183    style\n",
       "4     33    168      215  quality"
      ]
     },
     "execution_count": 9,
     "metadata": {},
     "output_type": "execute_result"
    }
   ],
   "source": [
    "#find number of reviews for each theme\n",
    "#find how many positive and negative sentiments for each theme\n",
    "themes = [ 'use', 'fit', 'value', 'style', 'quality']\n",
    "rows = []\n",
    "for t in themes:\n",
    "    c1 = t + '_sentiment_label'\n",
    "    c2 = t + '_theme_exists'\n",
    "    n_theme = (df[c2] == 1).sum() \n",
    "    n_pos = (df[c1] == 'pos').sum()\n",
    "    n_neg = (df[c1] == 'neg').sum() \n",
    "    row = {\n",
    "        'theme':t,\n",
    "        'n_theme':n_theme, \n",
    "        'n_pos':n_pos, \n",
    "        'n_neg':n_neg, \n",
    "    }\n",
    "    rows.append( row )\n",
    "df2 = pd.DataFrame( rows )\n",
    "df2"
   ]
  },
  {
   "cell_type": "code",
   "execution_count": 11,
   "metadata": {},
   "outputs": [
    {
     "data": {
      "text/plain": [
       "<matplotlib.axes._subplots.AxesSubplot at 0x13d7c203278>"
      ]
     },
     "execution_count": 11,
     "metadata": {},
     "output_type": "execute_result"
    },
    {
     "data": {
      "image/png": "[encoded data removed]",
      "text/plain": [
       "<Figure size 432x288 with 1 Axes>"
      ]
     },
     "metadata": {
      "needs_background": "light"
     },
     "output_type": "display_data"
    }
   ],
   "source": [
    "# visual check of themes to number of themes\n",
    "sns.barplot(x='theme', y='n_theme', data=df2)"
   ]
  },
  {
   "cell_type": "markdown",
   "metadata": {},
   "source": [
    "This is interesting; one review has multiple themes present (the overall total n_theme does not equal 300). Fit and quality of material seems to be the most common themes present followed by style, use and value."
   ]
  },
  {
   "cell_type": "code",
   "execution_count": 22,
   "metadata": {},
   "outputs": [
    {
     "data": {
      "image/png": "[encoded data removed]",
      "text/plain": [
       "<Figure size 720x360 with 2 Axes>"
      ]
     },
     "metadata": {
      "needs_background": "light"
     },
     "output_type": "display_data"
    }
   ],
   "source": [
    "fig, axs = plt.subplots(ncols=2, figsize=(10,5))\n",
    "\n",
    "#Compare and plot the n_pos sentiment of themes \n",
    "sns.barplot(data=df2, y = 'n_pos', \n",
    "            x = 'theme', palette=\"muted\", ax=axs[0])\n",
    "axs[0].set_title('positive sentiment count')\n",
    "axs[0].set_ylim(0,250)\n",
    "axs[0].set_xlabel('theme')\n",
    "\n",
    "#Compare and plot the n_neg sentiment of themes \n",
    "sns.barplot(data=df2, y = 'n_neg', \n",
    "            x = 'theme', palette=\"muted\", ax=axs[1])\n",
    "axs[1].set_title('negative sentiment count')\n",
    "axs[1].set_ylim(0,250)\n",
    "axs[1].set_xlabel('theme')\n",
    "sns.despine()"
   ]
  },
  {
   "cell_type": "markdown",
   "metadata": {},
   "source": [
    "This is great. Most of the sentiment in this review is positive. The greatest negative sentiment is quality, even then the only need for improvement is slight. "
   ]
  },
  {
   "cell_type": "code",
   "execution_count": null,
   "metadata": {},
   "outputs": [],
   "source": []
  }
 ],
 "metadata": {
  "kernelspec": {
   "display_name": "Python 3",
   "language": "python",
   "name": "python3"
  },
  "language_info": {
   "codemirror_mode": {
    "name": "ipython",
    "version": 3
   },
   "file_extension": ".py",
   "mimetype": "text/x-python",
   "name": "python",
   "nbconvert_exporter": "python",
   "pygments_lexer": "ipython3",
   "version": "3.7.0"
  }
 },
 "nbformat": 4,
 "nbformat_minor": 2
}
