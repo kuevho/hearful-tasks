{
 "cells": [
  {
   "cell_type": "markdown",
   "metadata": {},
   "source": [
    "## Task 1\n",
    "Identify all the strings that are affiliated with the brand Ralph Lauren."
   ]
  },
  {
   "cell_type": "code",
   "execution_count": 1,
   "metadata": {},
   "outputs": [
    {
     "name": "stderr",
     "output_type": "stream",
     "text": [
      "C:\\Users\\vangk\\AppData\\Local\\Continuum\\anaconda3\\lib\\site-packages\\fuzzywuzzy\\fuzz.py:11: UserWarning: Using slow pure-python SequenceMatcher. Install python-Levenshtein to remove this warning\n",
      "  warnings.warn('Using slow pure-python SequenceMatcher. Install python-Levenshtein to remove this warning')\n"
     ]
    }
   ],
   "source": [
    "#import packages\n",
    "import pandas as pd\n",
    "import numpy as np\n",
    "import re\n",
    "from string import digits\n",
    "from textblob import TextBlob\n",
    "from copy import deepcopy as copy\n",
    "from fuzzywuzzy import fuzz"
   ]
  },
  {
   "cell_type": "code",
   "execution_count": 2,
   "metadata": {},
   "outputs": [],
   "source": [
    "#open and read file\n",
    "f = open('Distinct_Brands.txt','rt', errors='ignore')\n",
    "\n",
    "brands = f.read()"
   ]
  },
  {
   "cell_type": "code",
   "execution_count": 3,
   "metadata": {},
   "outputs": [],
   "source": [
    "f.close()"
   ]
  },
  {
   "cell_type": "code",
   "execution_count": 4,
   "metadata": {},
   "outputs": [],
   "source": [
    "#copy file for cleaning and filing\n",
    "brands2 = copy( brands )"
   ]
  },
  {
   "cell_type": "code",
   "execution_count": 5,
   "metadata": {},
   "outputs": [],
   "source": [
    "#split by commas then find all leters and numbers.\n",
    "#lower case all letters so won't have to deal with capitals then strip all white spaces\n",
    "brand_list = brands2.split( ',')\n",
    "brand_list = [ re.sub(r\"[^a-z0-9]\",\" \",r.lower()).strip() for r in brand_list ] "
   ]
  },
  {
   "cell_type": "code",
   "execution_count": 6,
   "metadata": {},
   "outputs": [
    {
     "data": {
      "text/plain": [
       "['47',\n",
       " 'zunie',\n",
       " 'zunammy',\n",
       " 'zubaz',\n",
       " 'zoozatz',\n",
       " 'zoo york',\n",
       " 'zoinx',\n",
       " 'zipway',\n",
       " 'zigo soho',\n",
       " 'zibu']"
      ]
     },
     "execution_count": 6,
     "metadata": {},
     "output_type": "execute_result"
    }
   ],
   "source": [
    "#check top 10 on list\n",
    "brand_list[:10]"
   ]
  },
  {
   "cell_type": "code",
   "execution_count": 7,
   "metadata": {},
   "outputs": [],
   "source": [
    "#token set ration for ralph\n",
    "ralph_scores = [ fuzz.token_set_ratio( 'ralph', r) for r in brand_list ]"
   ]
  },
  {
   "cell_type": "code",
   "execution_count": 8,
   "metadata": {},
   "outputs": [],
   "source": [
    "#set ratio for lauren\n",
    "lauren_scores = [ fuzz.token_set_ratio( 'lauren',r ) for r in brand_list ]"
   ]
  },
  {
   "cell_type": "code",
   "execution_count": 9,
   "metadata": {},
   "outputs": [],
   "source": [
    "#find all ralph and lauren scores that are greater random number 80\n",
    "idx = np.where( np.array( lauren_scores) > 80 )[0]\n",
    "jdx = np.where( np.array( ralph_scores) > 80 )[0]"
   ]
  },
  {
   "cell_type": "code",
   "execution_count": 10,
   "metadata": {},
   "outputs": [],
   "source": [
    "#list combined ralph and lauren from fuzzy scores\n",
    "kdx = np.array( list(set(idx) & set(jdx) ))"
   ]
  },
  {
   "cell_type": "code",
   "execution_count": 11,
   "metadata": {},
   "outputs": [],
   "source": [
    "#set string to another file\n",
    "with open('./test_output.txt','w') as fout:\n",
    "    for k in kdx:\n",
    "        fout.write( brand_list[k] )\n",
    "        fout.write( '\\n' )"
   ]
  },
  {
   "cell_type": "code",
   "execution_count": 12,
   "metadata": {},
   "outputs": [
    {
     "data": {
      "text/plain": [
       "array(['lauren ralph lauren newbury collection kaelyn mini cross body bag',\n",
       "       'lauren ralph lauren newbury collection halee tote',\n",
       "       'lauren ralph lauren newbury collection halee python embossed tote',\n",
       "       ..., 'lauren ralph lauren newbury collection stefanie satchel',\n",
       "       'lauren ralph lauren newbury collection snap wallet',\n",
       "       'lauren ralph lauren newbury collection slim wallet'],\n",
       "      dtype='<U123')"
      ]
     },
     "execution_count": 12,
     "metadata": {},
     "output_type": "execute_result"
    }
   ],
   "source": [
    "#check\n",
    "np.array( brand_list)[kdx]"
   ]
  }
 ],
 "metadata": {
  "kernelspec": {
   "display_name": "Python 3",
   "language": "python",
   "name": "python3"
  },
  "language_info": {
   "codemirror_mode": {
    "name": "ipython",
    "version": 3
   },
   "file_extension": ".py",
   "mimetype": "text/x-python",
   "name": "python",
   "nbconvert_exporter": "python",
   "pygments_lexer": "ipython3",
   "version": "3.7.0"
  }
 },
 "nbformat": 4,
 "nbformat_minor": 2
}
